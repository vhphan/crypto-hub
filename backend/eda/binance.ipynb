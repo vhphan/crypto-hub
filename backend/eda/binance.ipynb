{
 "cells": [
  {
   "metadata": {
    "ExecuteTime": {
     "end_time": "2024-06-19T07:22:01.586193Z",
     "start_time": "2024-06-19T07:22:01.563008Z"
    }
   },
   "cell_type": "code",
   "source": [
    "from dotenv import load_dotenv\n",
    "\n",
    "load_dotenv()"
   ],
   "id": "5841143043fbb534",
   "outputs": [
    {
     "data": {
      "text/plain": [
       "True"
      ]
     },
     "execution_count": 1,
     "metadata": {},
     "output_type": "execute_result"
    }
   ],
   "execution_count": 1
  },
  {
   "metadata": {
    "ExecuteTime": {
     "end_time": "2024-06-19T07:22:01.765953Z",
     "start_time": "2024-06-19T07:22:01.759971Z"
    }
   },
   "cell_type": "code",
   "source": [
    "import os\n",
    "\n",
    "api_key = os.getenv(\"BINANCE_API_KEY\")\n",
    "api_secret = os.getenv(\"BINANCE_SECRET_KEY\")"
   ],
   "id": "2368626b765d64bd",
   "outputs": [],
   "execution_count": 2
  },
  {
   "metadata": {
    "ExecuteTime": {
     "end_time": "2024-06-19T07:22:02.081683Z",
     "start_time": "2024-06-19T07:22:01.921070Z"
    }
   },
   "cell_type": "code",
   "source": [
    "from binance.spot import Spot\n",
    "\n",
    "client = Spot(api_key=api_key, api_secret=api_secret)"
   ],
   "id": "eff045069e5f0e",
   "outputs": [],
   "execution_count": 3
  },
  {
   "metadata": {
    "ExecuteTime": {
     "end_time": "2024-06-19T07:22:02.238802Z",
     "start_time": "2024-06-19T07:22:02.085195Z"
    }
   },
   "cell_type": "code",
   "source": "client.time()",
   "id": "ddafdac81f1ef9df",
   "outputs": [
    {
     "data": {
      "text/plain": [
       "{'serverTime': 1718781728781}"
      ]
     },
     "execution_count": 4,
     "metadata": {},
     "output_type": "execute_result"
    }
   ],
   "execution_count": 4
  },
  {
   "metadata": {
    "ExecuteTime": {
     "end_time": "2024-06-19T07:22:02.549719Z",
     "start_time": "2024-06-19T07:22:02.545339Z"
    }
   },
   "cell_type": "code",
   "source": "import time",
   "id": "2f6ac98ed9d8d00c",
   "outputs": [],
   "execution_count": 5
  },
  {
   "metadata": {
    "ExecuteTime": {
     "end_time": "2024-06-19T07:22:02.857952Z",
     "start_time": "2024-06-19T07:22:02.755831Z"
    }
   },
   "cell_type": "code",
   "source": [
    "\n",
    "time.time() - client.time()['serverTime'] / 1000"
   ],
   "id": "1f9d4702d46f63f2",
   "outputs": [
    {
     "data": {
      "text/plain": [
       "-6.650263071060181"
      ]
     },
     "execution_count": 6,
     "metadata": {},
     "output_type": "execute_result"
    }
   ],
   "execution_count": 6
  },
  {
   "metadata": {
    "ExecuteTime": {
     "end_time": "2024-06-19T07:25:25.649157Z",
     "start_time": "2024-06-19T07:25:25.561430Z"
    }
   },
   "cell_type": "code",
   "source": "account_details = client.account(recvWindow=10000)\n",
   "id": "fd8b2915112988d4",
   "outputs": [],
   "execution_count": 9
  },
  {
   "metadata": {
    "ExecuteTime": {
     "end_time": "2024-06-19T07:29:19.318570Z",
     "start_time": "2024-06-19T07:29:18.712725Z"
    }
   },
   "cell_type": "code",
   "source": "exchange_info = client.exchange_info()\n",
   "id": "1893ff61b220baf0",
   "outputs": [],
   "execution_count": 11
  },
  {
   "metadata": {
    "ExecuteTime": {
     "end_time": "2024-06-19T09:15:59.047255Z",
     "start_time": "2024-06-19T09:15:59.041297Z"
    }
   },
   "cell_type": "code",
   "source": [
    "symbols = [\n",
    "    symbol['symbol']\n",
    "    for symbol in exchange_info['symbols']\n",
    "    if symbol['status'] == 'TRADING'\n",
    "       # and symbol['quoteAsset'] == 'USDT'\n",
    "]\n",
    "len(symbols)\n"
   ],
   "id": "b240acd69934b021",
   "outputs": [
    {
     "data": {
      "text/plain": [
       "1274"
      ]
     },
     "execution_count": 19,
     "metadata": {},
     "output_type": "execute_result"
    }
   ],
   "execution_count": 19
  },
  {
   "metadata": {
    "ExecuteTime": {
     "end_time": "2024-06-19T09:09:51.638749Z",
     "start_time": "2024-06-19T09:09:51.633838Z"
    }
   },
   "cell_type": "code",
   "source": "len(symbols)",
   "id": "cdf7f7b9714a6e4d",
   "outputs": [
    {
     "data": {
      "text/plain": [
       "382"
      ]
     },
     "execution_count": 17,
     "metadata": {},
     "output_type": "execute_result"
    }
   ],
   "execution_count": 17
  },
  {
   "metadata": {
    "ExecuteTime": {
     "end_time": "2024-06-19T09:13:49.950711Z",
     "start_time": "2024-06-19T09:13:49.945379Z"
    }
   },
   "cell_type": "code",
   "source": "len(exchange_info['symbols'])",
   "id": "1c1afd468affdf5a",
   "outputs": [
    {
     "data": {
      "text/plain": [
       "2665"
      ]
     },
     "execution_count": 18,
     "metadata": {},
     "output_type": "execute_result"
    }
   ],
   "execution_count": 18
  },
  {
   "metadata": {
    "ExecuteTime": {
     "end_time": "2024-06-19T09:33:18.676422Z",
     "start_time": "2024-06-19T09:33:18.669763Z"
    }
   },
   "cell_type": "code",
   "source": [
    "from collections import Counter\n",
    "\n",
    "statuses = [ \n",
    "    symbol['status']\n",
    "    for symbol in exchange_info['symbols']\n",
    "]\n",
    "\n",
    "status_count = Counter(statuses)\n",
    "status_count"
   ],
   "id": "d4215a3bac677d07",
   "outputs": [
    {
     "data": {
      "text/plain": [
       "Counter({'BREAK': 1391, 'TRADING': 1274})"
      ]
     },
     "execution_count": 20,
     "metadata": {},
     "output_type": "execute_result"
    }
   ],
   "execution_count": 20
  },
  {
   "metadata": {},
   "cell_type": "code",
   "outputs": [],
   "execution_count": null,
   "source": "",
   "id": "68580ab88cf2f814"
  }
 ],
 "metadata": {
  "kernelspec": {
   "display_name": "Python 3",
   "language": "python",
   "name": "python3"
  },
  "language_info": {
   "codemirror_mode": {
    "name": "ipython",
    "version": 2
   },
   "file_extension": ".py",
   "mimetype": "text/x-python",
   "name": "python",
   "nbconvert_exporter": "python",
   "pygments_lexer": "ipython2",
   "version": "2.7.6"
  }
 },
 "nbformat": 4,
 "nbformat_minor": 5
}
